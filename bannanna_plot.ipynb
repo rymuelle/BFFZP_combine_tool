{
  "nbformat": 4,
  "nbformat_minor": 0,
  "metadata": {
    "colab": {
      "name": "bannanna_plot.ipynb",
      "provenance": [],
      "collapsed_sections": [],
      "authorship_tag": "ABX9TyMGdw8uwC3moN3cj37Nc//L",
      "include_colab_link": true
    },
    "kernelspec": {
      "name": "python3",
      "display_name": "Python 3"
    }
  },
  "cells": [
    {
      "cell_type": "markdown",
      "metadata": {
        "id": "view-in-github",
        "colab_type": "text"
      },
      "source": [
        "<a href=\"https://colab.research.google.com/github/rymuelle/BFFZP_combine_tool/blob/main/bannanna_plot.ipynb\" target=\"_parent\"><img src=\"https://colab.research.google.com/assets/colab-badge.svg\" alt=\"Open In Colab\"/></a>"
      ]
    },
    {
      "cell_type": "code",
      "metadata": {
        "colab": {
          "base_uri": "https://localhost:8080/"
        },
        "id": "MiOompufcVQU",
        "outputId": "d908c465-40d0-4162-e5f8-6df628be207b"
      },
      "source": [
        "pip install mplhep"
      ],
      "execution_count": 1,
      "outputs": [
        {
          "output_type": "stream",
          "text": [
            "Collecting mplhep\n",
            "\u001b[?25l  Downloading https://files.pythonhosted.org/packages/f1/9f/47cf8320fdf04d60f8698adc2658bd2a646092968958cd2e3800f404244d/mplhep-0.2.9-py3-none-any.whl (5.4MB)\n",
            "\u001b[K     |████████████████████████████████| 5.4MB 4.5MB/s \n",
            "\u001b[?25hRequirement already satisfied: requests~=2.21 in /usr/local/lib/python3.6/dist-packages (from mplhep) (2.23.0)\n",
            "Requirement already satisfied: scipy>=1.1.0 in /usr/local/lib/python3.6/dist-packages (from mplhep) (1.4.1)\n",
            "Requirement already satisfied: matplotlib>=3.1 in /usr/local/lib/python3.6/dist-packages (from mplhep) (3.2.2)\n",
            "Requirement already satisfied: packaging in /usr/local/lib/python3.6/dist-packages (from mplhep) (20.4)\n",
            "Requirement already satisfied: numpy>=1.16.0 in /usr/local/lib/python3.6/dist-packages (from mplhep) (1.18.5)\n",
            "Requirement already satisfied: chardet<4,>=3.0.2 in /usr/local/lib/python3.6/dist-packages (from requests~=2.21->mplhep) (3.0.4)\n",
            "Requirement already satisfied: certifi>=2017.4.17 in /usr/local/lib/python3.6/dist-packages (from requests~=2.21->mplhep) (2020.11.8)\n",
            "Requirement already satisfied: urllib3!=1.25.0,!=1.25.1,<1.26,>=1.21.1 in /usr/local/lib/python3.6/dist-packages (from requests~=2.21->mplhep) (1.24.3)\n",
            "Requirement already satisfied: idna<3,>=2.5 in /usr/local/lib/python3.6/dist-packages (from requests~=2.21->mplhep) (2.10)\n",
            "Requirement already satisfied: cycler>=0.10 in /usr/local/lib/python3.6/dist-packages (from matplotlib>=3.1->mplhep) (0.10.0)\n",
            "Requirement already satisfied: pyparsing!=2.0.4,!=2.1.2,!=2.1.6,>=2.0.1 in /usr/local/lib/python3.6/dist-packages (from matplotlib>=3.1->mplhep) (2.4.7)\n",
            "Requirement already satisfied: kiwisolver>=1.0.1 in /usr/local/lib/python3.6/dist-packages (from matplotlib>=3.1->mplhep) (1.3.1)\n",
            "Requirement already satisfied: python-dateutil>=2.1 in /usr/local/lib/python3.6/dist-packages (from matplotlib>=3.1->mplhep) (2.8.1)\n",
            "Requirement already satisfied: six in /usr/local/lib/python3.6/dist-packages (from packaging->mplhep) (1.15.0)\n",
            "Installing collected packages: mplhep\n",
            "Successfully installed mplhep-0.2.9\n"
          ],
          "name": "stdout"
        }
      ]
    },
    {
      "cell_type": "code",
      "metadata": {
        "id": "b2zWMNt_aLKd"
      },
      "source": [
        "import pandas as pd\n",
        "import matplotlib.pyplot as plt\n",
        "import numpy as np\n",
        "from io import StringIO\n",
        "import mplhep as hep"
      ],
      "execution_count": 2,
      "outputs": []
    },
    {
      "cell_type": "code",
      "metadata": {
        "id": "rkYKUoP4ZcaL"
      },
      "source": [
        "limits_16 = StringIO(',limit,limitErr,mh,syst,iToy,iSeed,iChannel,t_cpu,t_real,quantileExpected\\n0,0.0620269775390625,0.0,300.0,1,0,123456,0,0.0,0.0,0.02500000037252903\\n1,0.08674085140228271,0.0,300.0,1,0,123456,0,0.0,0.0,0.1599999964237213\\n2,0.13232421875,0.0,300.0,1,0,123456,0,0.0,0.0,0.5\\n3,0.21144172549247742,0.0,300.0,1,0,123456,0,0.0,0.0,0.8399999737739563\\n4,0.3397274613380432,0.0,300.0,1,0,123456,0,0.0,0.0,0.9750000238418579\\n5,0.10450950532800657,0.0002790310735323043,300.0,1,0,123456,0,0.40299999713897705,0.40376052260398865,-1.0\\n6,0.040283203125,0.0,250.0,1,0,123456,0,0.0,0.0,0.02500000037252903\\n7,0.05633354187011719,0.0,250.0,1,0,123456,0,0.0,0.0,0.1599999964237213\\n8,0.0859375,0.0,250.0,1,0,123456,0,0.0,0.0,0.5\\n9,0.1386902928352356,0.0,250.0,1,0,123456,0,0.0,0.0,0.8399999737739563\\n10,0.22395861148834229,0.0,250.0,1,0,123456,0,0.0,0.0,0.9750000238418579\\n11,0.057425014783228895,0.00043383396021992246,250.0,1,0,123456,0,0.3866666555404663,0.38787028193473816,-1.0\\n12,0.0279083251953125,0.0,200.0,1,0,123456,0,0.0,0.0,0.02500000037252903\\n13,0.03938281536102295,0.0,200.0,1,0,123456,0,0.0,0.0,0.1599999964237213\\n14,0.060546875,0.0,200.0,1,0,123456,0,0.0,0.0,0.5\\n15,0.09867898374795914,0.0,200.0,1,0,123456,0,0.0,0.0,0.8399999737739563\\n16,0.1600855439901352,0.0,200.0,1,0,123456,0,0.0,0.0,0.9750000238418579\\n17,0.04606858114104896,0.0003824498382885809,200.0,1,0,123456,0,0.42633333802223206,0.4282872676849365,-1.0\\n18,0.2581787109375,0.0,500.0,1,0,123456,0,0.0,0.0,0.02500000037252903\\n19,0.36333274841308594,0.0,500.0,1,0,123456,0,0.0,0.0,0.1599999964237213\\n20,0.55078125,0.0,500.0,1,0,123456,0,0.0,0.0,0.5\\n21,0.8800969123840332,0.0,500.0,1,0,123456,0,0.0,0.0,0.8399999737739563\\n22,1.4078595638275146,0.0,500.0,1,0,123456,0,0.0,0.0,0.9750000238418579\\n23,0.46838738221248644,0.0008903677753829831,500.0,1,0,123456,0,0.33916667103767395,0.3416554927825928,-1.0\\n24,0.13524246215820312,0.0,400.0,1,0,123456,0,0.0,0.0,0.02500000037252903\\n25,0.18946868181228638,0.0,400.0,1,0,123456,0,0.0,0.0,0.1599999964237213\\n26,0.2861328125,0.0,400.0,1,0,123456,0,0.0,0.0,0.5\\n27,0.45721346139907837,0.0,400.0,1,0,123456,0,0.0,0.0,0.8399999737739563\\n28,0.7313880324363708,0.0,400.0,1,0,123456,0,0.0,0.0,0.9750000238418579\\n29,0.2002549533302017,0.0006992917704806006,400.0,1,0,123456,0,0.3840000033378601,0.38664472103118896,-1.0\\n30,0.092315673828125,0.0,350.0,1,0,123456,0,0.0,0.0,0.02500000037252903\\n31,0.1285254955291748,0.0,350.0,1,0,123456,0,0.0,0.0,0.1599999964237213\\n32,0.1953125,0.0,350.0,1,0,123456,0,0.0,0.0,0.5\\n33,0.31364813446998596,0.0,350.0,1,0,123456,0,0.0,0.0,0.8399999737739563\\n34,0.49976402521133423,0.0,350.0,1,0,123456,0,0.0,0.0,0.9750000238418579\\n35,1.5230904610500808,0.003523341342714259,350.0,1,0,123456,0,0.34066668152809143,0.3419523239135742,-1.0\\n')"
      ],
      "execution_count": 14,
      "outputs": []
    },
    {
      "cell_type": "code",
      "metadata": {
        "id": "gOp3CsHcbEl1"
      },
      "source": [
        "limits_16 = StringIO(''',limit,limitErr,mh,syst,iToy,iSeed,iChannel,t_cpu,t_real,quantileExpected\n",
        "0,0.12741470336914062,0.0,500.0,1,0,123456,0,0.0,0.0,0.025\n",
        "1,0.17493656277656555,0.0,500.0,1,0,123456,0,0.0,0.0,0.16\n",
        "2,0.2568359375,0.0,500.0,1,0,123456,0,0.0,0.0,0.5\n",
        "3,0.3899246156215668,0.0,500.0,1,0,123456,0,0.0,0.0,0.84\n",
        "4,0.5839349627494812,0.0,500.0,1,0,123456,0,0.0,0.0,0.975\n",
        "5,0.147491455078125,0.0,400.0,1,0,123456,0,0.0,0.0,0.025\n",
        "6,0.22328567504882812,0.0,400.0,1,0,123456,0,0.0,0.0,0.16\n",
        "7,0.349609375,0.0,400.0,1,0,123456,0,0.0,0.0,0.5\n",
        "8,0.5586430430412292,0.0,400.0,1,0,123456,0,0.0,0.0,0.84\n",
        "9,0.8778766989707947,0.0,400.0,1,0,123456,0,0.0,0.0,0.975\n",
        "10,0.18011474609375,0.0,350.0,1,0,123456,0,0.0,0.0,0.025\n",
        "11,0.27883148193359375,0.0,350.0,1,0,123456,0,0.0,0.0,0.16\n",
        "12,0.443359375,0.0,350.0,1,0,123456,0,0.0,0.0,0.5\n",
        "13,0.7261192798614502,0.0,350.0,1,0,123456,0,0.0,0.0,0.84\n",
        "14,1.168373465538025,0.0,350.0,1,0,123456,0,0.0,0.0,0.975\n",
        "15,0.237335205078125,0.0,300.0,1,0,123456,0,0.0,0.0,0.025\n",
        "16,0.371074914932251,0.0,300.0,1,0,123456,0,0.0,0.0,0.16\n",
        "17,0.6015625,0.0,300.0,1,0,123456,0,0.0,0.0,0.5\n",
        "18,1.0187890529632568,0.0,300.0,1,0,123456,0,0.0,0.0,0.84\n",
        "19,1.7026270627975464,0.0,300.0,1,0,123456,0,0.0,0.0,0.975\n",
        "20,0.33984375,0.0,250.0,1,0,123456,0,0.0,0.0,0.025\n",
        "21,0.538970947265625,0.0,250.0,1,0,123456,0,0.0,0.0,0.16\n",
        "22,0.90625,0.0,250.0,1,0,123456,0,0.0,0.0,0.5\n",
        "23,1.5998214483261108,0.0,250.0,1,0,123456,0,0.0,0.0,0.84\n",
        "24,2.7467429637908936,0.0,250.0,1,0,123456,0,0.0,0.0,0.975\n",
        "25,0.59619140625,0.0,200.0,1,0,123456,0,0.0,0.0,0.025\n",
        "26,0.9785499572753906,0.0,200.0,1,0,123456,0,0.0,0.0,0.16\n",
        "27,1.734375,0.0,200.0,1,0,123456,0,0.0,0.0,0.5\n",
        "28,3.310605764389038,0.0,200.0,1,0,123456,0,0.0,0.0,0.84\n",
        "29,5.258642196655273,0.0,200.0,1,0,123456,0,0.0,0.0,0.975''')\n",
        "\n",
        "limits_17 = StringIO(''',limit,limitErr,mh,syst,iToy,iSeed,iChannel,t_cpu,t_real,quantileExpected\n",
        "0,0.1418304443359375,0.0,500.0,1,0,123456,0,0.0,0.0,0.025\n",
        "1,0.19445431232452393,0.0,500.0,1,0,123456,0,0.0,0.0,0.16\n",
        "2,0.279296875,0.0,500.0,1,0,123456,0,0.0,0.0,0.5\n",
        "3,0.4095517098903656,0.0,500.0,1,0,123456,0,0.0,0.0,0.84\n",
        "4,0.5796110033988953,0.0,500.0,1,0,123456,0,0.0,0.0,0.975\n",
        "5,0.2078857421875,0.0,400.0,1,0,123456,0,0.0,0.0,0.025\n",
        "6,0.28382205963134766,0.0,400.0,1,0,123456,0,0.0,0.0,0.16\n",
        "7,0.40625,0.0,400.0,1,0,123456,0,0.0,0.0,0.5\n",
        "8,0.5924729108810425,0.0,400.0,1,0,123456,0,0.0,0.0,0.84\n",
        "9,0.841084361076355,0.0,400.0,1,0,123456,0,0.0,0.0,0.975\n",
        "10,0.255889892578125,0.0,350.0,1,0,123456,0,0.0,0.0,0.025\n",
        "11,0.3527712821960449,0.0,350.0,1,0,123456,0,0.0,0.0,0.16\n",
        "12,0.50390625,0.0,350.0,1,0,123456,0,0.0,0.0,0.5\n",
        "13,0.738911509513855,0.0,350.0,1,0,123456,0,0.0,0.0,0.84\n",
        "14,1.0519301891326904,0.0,350.0,1,0,123456,0,0.0,0.0,0.975\n",
        "15,0.34151458740234375,0.0,300.0,1,0,123456,0,0.0,0.0,0.025\n",
        "16,0.4728504419326782,0.0,300.0,1,0,123456,0,0.0,0.0,0.16\n",
        "17,0.677734375,0.0,300.0,1,0,123456,0,0.0,0.0,0.5\n",
        "18,0.9965088367462158,0.0,300.0,1,0,123456,0,0.0,0.0,0.84\n",
        "19,1.4330719709396362,0.0,300.0,1,0,123456,0,0.0,0.0,0.975\n",
        "20,0.47646331787109375,0.0,250.0,1,0,123456,0,0.0,0.0,0.025\n",
        "21,0.6574400067329407,0.0,250.0,1,0,123456,0,0.0,0.0,0.16\n",
        "22,0.94921875,0.0,250.0,1,0,123456,0,0.0,0.0,0.5\n",
        "23,1.407037615776062,0.0,250.0,1,0,123456,0,0.0,0.0,0.84\n",
        "24,2.0427165031433105,0.0,250.0,1,0,123456,0,0.0,0.0,0.975\n",
        "25,0.8203125,0.0,200.0,1,0,123456,0,0.0,0.0,0.025\n",
        "26,1.12152099609375,0.0,200.0,1,0,123456,0,0.0,0.0,0.16\n",
        "27,1.640625,0.0,200.0,1,0,123456,0,0.0,0.0,0.5\n",
        "28,2.4842336177825928,0.0,200.0,1,0,123456,0,0.0,0.0,0.84\n",
        "29,3.726783514022827,0.0,200.0,1,0,123456,0,0.0,0.0,0.975''')\n",
        "\n",
        "limits_18 = StringIO(''',limit,limitErr,mh,syst,iToy,iSeed,iChannel,t_cpu,t_real,quantileExpected\n",
        "0,0.13835906982421875,0.0,500.0,1,0,123456,0,0.0,0.0,0.025\n",
        "1,0.18864727020263672,0.0,500.0,1,0,123456,0,0.0,0.0,0.16\n",
        "2,0.2724609375,0.0,500.0,1,0,123456,0,0.0,0.0,0.5\n",
        "3,0.40278586745262146,0.0,500.0,1,0,123456,0,0.0,0.0,0.84\n",
        "4,0.5774008631706238,0.0,500.0,1,0,123456,0,0.0,0.0,0.975\n",
        "5,0.19739151000976562,0.0,400.0,1,0,123456,0,0.0,0.0,0.025\n",
        "6,0.2680230140686035,0.0,400.0,1,0,123456,0,0.0,0.0,0.16\n",
        "7,0.3857421875,0.0,400.0,1,0,123456,0,0.0,0.0,0.5\n",
        "8,0.5671771764755249,0.0,400.0,1,0,123456,0,0.0,0.0,0.84\n",
        "9,0.8109204173088074,0.0,400.0,1,0,123456,0,0.0,0.0,0.975\n",
        "10,0.24086761474609375,0.0,350.0,1,0,123456,0,0.0,0.0,0.025\n",
        "11,0.3270559310913086,0.0,350.0,1,0,123456,0,0.0,0.0,0.16\n",
        "12,0.470703125,0.0,350.0,1,0,123456,0,0.0,0.0,0.5\n",
        "13,0.6939760446548462,0.0,350.0,1,0,123456,0,0.0,0.0,0.84\n",
        "14,0.9964102506637573,0.0,350.0,1,0,123456,0,0.0,0.0,0.975\n",
        "15,0.3084564208984375,0.0,300.0,1,0,123456,0,0.0,0.0,0.025\n",
        "16,0.42056846618652344,0.0,300.0,1,0,123456,0,0.0,0.0,0.16\n",
        "17,0.607421875,0.0,300.0,1,0,123456,0,0.0,0.0,0.5\n",
        "18,0.8979670405387878,0.0,300.0,1,0,123456,0,0.0,0.0,0.84\n",
        "19,1.29466712474823,0.0,300.0,1,0,123456,0,0.0,0.0,0.975\n",
        "20,0.4205322265625,0.0,250.0,1,0,123456,0,0.0,0.0,0.025\n",
        "21,0.5733795166015625,0.0,250.0,1,0,123456,0,0.0,0.0,0.16\n",
        "22,0.828125,0.0,250.0,1,0,123456,0,0.0,0.0,0.5\n",
        "23,1.2374417781829834,0.0,250.0,1,0,123456,0,0.0,0.0,0.84\n",
        "24,1.8127856254577637,0.0,250.0,1,0,123456,0,0.0,0.0,0.975\n",
        "25,0.693359375,0.0,200.0,1,0,123456,0,0.0,0.0,0.025\n",
        "26,0.9479522705078125,0.0,200.0,1,0,123456,0,0.0,0.0,0.16\n",
        "27,1.38671875,0.0,200.0,1,0,123456,0,0.0,0.0,0.5\n",
        "28,2.1052963733673096,0.0,200.0,1,0,123456,0,0.0,0.0,0.84\n",
        "29,3.1528046131134033,0.0,200.0,1,0,123456,0,0.0,0.0,0.975''')"
      ],
      "execution_count": 33,
      "outputs": []
    },
    {
      "cell_type": "code",
      "metadata": {
        "id": "nhRSTfplZyw8"
      },
      "source": [
        "era = 18\n",
        "if era== 16: limits_csv = limits_16\n",
        "if era== 17: limits_csv = limits_17\n",
        "if era== 18: limits_csv = limits_18\n",
        "limit_pd = pd.read_csv(limits_csv)"
      ],
      "execution_count": 48,
      "outputs": []
    },
    {
      "cell_type": "code",
      "metadata": {
        "id": "TSU6xK_taH8H"
      },
      "source": [
        "limit_pd.sort_values(['mh'], inplace=True)"
      ],
      "execution_count": 49,
      "outputs": []
    },
    {
      "cell_type": "code",
      "metadata": {
        "id": "d09Kzfp0abwp"
      },
      "source": [
        "mass_dict = {}\n",
        "mass_dict[200] = [2.889e-01, 2.817e-04]\n",
        "mass_dict[250] = [1.225e-01, 1.183e-04]\n",
        "mass_dict[300] = [5.886e-02, 6.312e-05]\n",
        "mass_dict[350] = [3.104e-02, 3.313e-05]\n",
        "mass_dict[400] = [1.742e-02, 2.120e-05]\n",
        "mass_dict[450] = [1.038e-02, 1.162e-05]\n",
        "mass_dict[500] = [6.420e-03, 7.663e-06]\n",
        "mass_xsection = lambda mass: mass_dict[mass][0]"
      ],
      "execution_count": 50,
      "outputs": []
    },
    {
      "cell_type": "code",
      "metadata": {
        "colab": {
          "base_uri": "https://localhost:8080/"
        },
        "id": "Pv_tW_X3kA_q",
        "outputId": "f0fbdec9-36a6-4d6a-9a2c-a60d8281e019"
      },
      "source": [
        "mass_dict"
      ],
      "execution_count": 51,
      "outputs": [
        {
          "output_type": "execute_result",
          "data": {
            "text/plain": [
              "{200: [0.2889, 0.0002817],\n",
              " 250: [0.1225, 0.0001183],\n",
              " 300: [0.05886, 6.312e-05],\n",
              " 350: [0.03104, 3.313e-05],\n",
              " 400: [0.01742, 2.12e-05],\n",
              " 450: [0.01038, 1.162e-05],\n",
              " 500: [0.00642, 7.663e-06]}"
            ]
          },
          "metadata": {
            "tags": []
          },
          "execution_count": 51
        }
      ]
    },
    {
      "cell_type": "code",
      "metadata": {
        "id": "wZbI33kMbnz8"
      },
      "source": [
        "#limit_pd = limit_pd.assign(xsection=lambda limit_pd: (1000.*limit_pd.limit)*list(map(mass_xsection,limit_pd.mh)))\n",
        "limit_pd = limit_pd.assign(xsection=lambda limit_pd: (1000.*limit_pd.limit)*.010)"
      ],
      "execution_count": 52,
      "outputs": []
    },
    {
      "cell_type": "code",
      "metadata": {
        "colab": {
          "base_uri": "https://localhost:8080/"
        },
        "id": "p7onuzONbtIX",
        "outputId": "1904213e-2c39-4306-ab35-5101b95ff77c"
      },
      "source": [
        "unique_quantiles = np.unique(limit_pd.quantileExpected)\n",
        "unique_quantiles"
      ],
      "execution_count": 53,
      "outputs": [
        {
          "output_type": "execute_result",
          "data": {
            "text/plain": [
              "array([0.025, 0.16 , 0.5  , 0.84 , 0.975])"
            ]
          },
          "metadata": {
            "tags": []
          },
          "execution_count": 53
        }
      ]
    },
    {
      "cell_type": "code",
      "metadata": {
        "id": "sV_357DDiWDM"
      },
      "source": [
        ""
      ],
      "execution_count": 53,
      "outputs": []
    },
    {
      "cell_type": "code",
      "metadata": {
        "colab": {
          "base_uri": "https://localhost:8080/",
          "height": 766
        },
        "id": "uiJ34DezbwUf",
        "outputId": "b437dad8-634d-49d6-a28b-8b6dce8c7654"
      },
      "source": [
        "masses = limit_pd[limit_pd.quantileExpected==.5].mh\n",
        "\n",
        "mass_limits = {}\n",
        "for m in unique_quantiles:\n",
        "    print(str(m))\n",
        "    mass_limits[str(m)] = limit_pd[limit_pd.quantileExpected==m].xsection\n",
        "\n",
        "\n",
        "\n",
        "plt.style.use([hep.style.ROOT, hep.style.firamath])\n",
        "\n",
        "f, ax = plt.subplots()\n",
        "hep.cms.label(loc=0,ax=ax,year='20{}'.format(era),  data=False)\n",
        "ax.fill_between(masses,mass_limits[\"0.025\"],mass_limits[\"0.975\"], alpha=1, color ='yellow')\n",
        "ax.fill_between(masses,mass_limits[\"0.16\"],mass_limits[\"0.84\"], alpha=1, color ='green')\n",
        "ax.plot(masses,mass_limits[\"0.5\"], color='black')\n",
        "plt.yscale('log')\n",
        "hep.cms.label(loc=0)\n",
        "\n",
        "\n",
        "plt.ylabel('cross section [fb]')\n",
        "plt.xlabel(\"Z' Mass [GeV]\")\n",
        "\n",
        "plt.show()\n",
        "plt.savefig('limit_{}.png'.format(era))"
      ],
      "execution_count": 54,
      "outputs": [
        {
          "output_type": "stream",
          "text": [
            "0.025\n",
            "0.16\n",
            "0.5\n",
            "0.84\n",
            "0.975\n"
          ],
          "name": "stdout"
        },
        {
          "output_type": "display_data",
          "data": {
            "image/png": "[encoded data removed]",
            "text/plain": [
              "<Figure size 720x720 with 1 Axes>"
            ]
          },
          "metadata": {
            "tags": [],
            "needs_background": "light"
          }
        },
        {
          "output_type": "display_data",
          "data": {
            "text/plain": [
              "<Figure size 720x720 with 0 Axes>"
            ]
          },
          "metadata": {
            "tags": []
          }
        }
      ]
    },
    {
      "cell_type": "code",
      "metadata": {
        "colab": {
          "base_uri": "https://localhost:8080/"
        },
        "id": "BIwUE6LmbyOF",
        "outputId": "a08edd88-c282-4482-a5c0-b9daa392b60f"
      },
      "source": [
        ""
      ],
      "execution_count": null,
      "outputs": [
        {
          "output_type": "execute_result",
          "data": {
            "text/plain": [
              "17    0.046069\n",
              "16    0.160086\n",
              "15    0.098679\n",
              "14    0.060547\n",
              "13    0.039383\n",
              "12    0.027908\n",
              "6     0.040283\n",
              "7     0.056334\n",
              "8     0.085938\n",
              "9     0.138690\n",
              "10    0.223959\n",
              "11    0.057425\n",
              "0     0.062027\n",
              "4     0.339727\n",
              "3     0.211442\n",
              "2     0.132324\n",
              "1     0.086741\n",
              "5     0.104510\n",
              "33    0.313648\n",
              "32    0.195312\n",
              "31    0.128525\n",
              "30    0.092316\n",
              "35    1.523090\n",
              "34    0.499764\n",
              "25    0.189469\n",
              "26    0.286133\n",
              "27    0.457213\n",
              "28    0.731388\n",
              "29    0.200255\n",
              "24    0.135242\n",
              "23    0.468387\n",
              "21    0.880097\n",
              "20    0.550781\n",
              "19    0.363333\n",
              "18    0.258179\n",
              "22    1.407860\n",
              "Name: limit, dtype: float64"
            ]
          },
          "metadata": {
            "tags": []
          },
          "execution_count": 69
        }
      ]
    },
    {
      "cell_type": "code",
      "metadata": {
        "id": "sDigFd6yhq2W"
      },
      "source": [
        ""
      ],
      "execution_count": null,
      "outputs": []
    }
  ]
}